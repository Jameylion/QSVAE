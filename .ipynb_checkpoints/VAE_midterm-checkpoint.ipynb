{
 "cells": [
  {
   "cell_type": "code",
   "execution_count": 1,
   "metadata": {
    "id": "wHbSMACDa9Gx",
    "tags": []
   },
   "outputs": [],
   "source": [
    "# %%capture\n",
    "# !pip install qiskit qiskit-aer qiskit-ibm-runtime qiskit_experiments pylatexenc quantuminspire snntorch qiskit tqdm matplotlib"
   ]
  },
  {
   "cell_type": "code",
   "execution_count": 2,
   "metadata": {
    "id": "wHbSMACDa9Gx",
    "tags": []
   },
   "outputs": [],
   "source": [
    "# !pip3 install torch torchvision torchaudio --index-url https://download.pytorch.org/whl/cpu"
   ]
  },
  {
   "cell_type": "code",
   "execution_count": 3,
   "metadata": {
    "id": "wHbSMACDa9Gx",
    "tags": []
   },
   "outputs": [
    {
     "ename": "ModuleNotFoundError",
     "evalue": "No module named 'src.QSVAE_model'",
     "output_type": "error",
     "traceback": [
      "\u001b[0;31m---------------------------------------------------------------------------\u001b[0m",
      "\u001b[0;31mModuleNotFoundError\u001b[0m                       Traceback (most recent call last)",
      "Cell \u001b[0;32mIn[3], line 4\u001b[0m\n\u001b[1;32m      1\u001b[0m \u001b[38;5;28;01mimport\u001b[39;00m \u001b[38;5;21;01mtorch\u001b[39;00m\n\u001b[1;32m      3\u001b[0m \u001b[38;5;66;03m# from src.Quantum_circuits import *\u001b[39;00m\n\u001b[0;32m----> 4\u001b[0m \u001b[38;5;28;01mfrom\u001b[39;00m \u001b[38;5;21;01msrc\u001b[39;00m\u001b[38;5;21;01m.\u001b[39;00m\u001b[38;5;21;01mQSVAE_model\u001b[39;00m \u001b[38;5;28;01mimport\u001b[39;00m \u001b[38;5;241m*\u001b[39m\n\u001b[1;32m      5\u001b[0m \u001b[38;5;28;01mfrom\u001b[39;00m \u001b[38;5;21;01msrc\u001b[39;00m\u001b[38;5;21;01m.\u001b[39;00m\u001b[38;5;21;01mPOVM_dataset\u001b[39;00m \u001b[38;5;28;01mimport\u001b[39;00m \u001b[38;5;241m*\u001b[39m\n\u001b[1;32m      7\u001b[0m \u001b[38;5;28;01mif\u001b[39;00m torch\u001b[38;5;241m.\u001b[39mcuda\u001b[38;5;241m.\u001b[39mis_available():\n",
      "\u001b[0;31mModuleNotFoundError\u001b[0m: No module named 'src.QSVAE_model'"
     ]
    }
   ],
   "source": [
    "import torch\n",
    "\n",
    "# from src.Quantum_circuits import *\n",
    "from src.QSVAE_model import *\n",
    "from src.POVM_dataset import *\n",
    "\n",
    "if torch.cuda.is_available():\n",
    " dev = \"cuda:0\"\n",
    "#  dev = \"cpu\"\n",
    "else:\n",
    " dev = \"cpu\"\n",
    "device = torch.device(dev)\n",
    "print(device)\n",
    "torch.__version__\n",
    "\n",
    "n = 3 # Amount of qubits\n",
    "shots = 100_000 # amount of shots taken by the quantum simulator\n",
    "first_run = False\n",
    "# Support for \"Starmon-5\" and \"AerSimulator\" \n",
    "# backend_type = \"AerSimulator\"\n",
    "# backend = select_backend(backend_type)\n",
    "train = True\n",
    "test = True\n",
    "val = True\n",
    "\n",
    "# Define hyperparameters\n",
    "beta = 0.819\n",
    "num_steps = 200\n",
    "num_epochs = 1\n",
    "learning_rate = 1e-3\n",
    "batch_train, batch_test, batch_val = (10000, 200, 1000)\n",
    "num_workers = 0\n",
    "shuffle = False\n",
    "split = [0.6, 0.2]\n",
    "\n"
   ]
  },
  {
   "cell_type": "code",
   "execution_count": 1,
   "metadata": {
    "id": "hmg6BrDBZZaN",
    "tags": []
   },
   "outputs": [
    {
     "ename": "NameError",
     "evalue": "name 'load_data' is not defined",
     "output_type": "error",
     "traceback": [
      "\u001b[0;31m---------------------------------------------------------------------------\u001b[0m",
      "\u001b[0;31mNameError\u001b[0m                                 Traceback (most recent call last)",
      "Cell \u001b[0;32mIn[1], line 5\u001b[0m\n\u001b[1;32m      1\u001b[0m result, circuits \u001b[38;5;241m=\u001b[39m \u001b[38;5;28;01mNone\u001b[39;00m, \u001b[38;5;28;01mNone\u001b[39;00m\n\u001b[1;32m      2\u001b[0m \u001b[38;5;66;03m# quantum_exp = QuantumExperiment(backend, n, shots)\u001b[39;00m\n\u001b[1;32m      3\u001b[0m \u001b[38;5;66;03m# result, circuits = quantum_exp.run_experiment()\u001b[39;00m\n\u001b[0;32m----> 5\u001b[0m train_loader, test_loader, val_loader, POVM_dataset \u001b[38;5;241m=\u001b[39m \u001b[43mload_data\u001b[49m(result,\n\u001b[1;32m      6\u001b[0m                                                                 circuits,\n\u001b[1;32m      7\u001b[0m                                                                 first_run,\n\u001b[1;32m      8\u001b[0m                                                                 backend,\n\u001b[1;32m      9\u001b[0m                                                                 n,\n\u001b[1;32m     10\u001b[0m                                                                 shots,\n\u001b[1;32m     11\u001b[0m                                                                 split,\n\u001b[1;32m     12\u001b[0m                                                                 [batch_train, batch_test, batch_val],\n\u001b[1;32m     13\u001b[0m                                                                 shuffle, num_workers)\n\u001b[1;32m     15\u001b[0m \u001b[38;5;66;03m# Instantiate the model for the given parameters\u001b[39;00m\n\u001b[1;32m     16\u001b[0m model \u001b[38;5;241m=\u001b[39m SQVAE(n\u001b[38;5;241m=\u001b[39mn, batch_size\u001b[38;5;241m=\u001b[39m[batch_train, batch_train, batch_val],\n\u001b[1;32m     17\u001b[0m               beta\u001b[38;5;241m=\u001b[39mbeta, num_steps\u001b[38;5;241m=\u001b[39mnum_steps, learning_rate\u001b[38;5;241m=\u001b[39mlearning_rate,\n\u001b[1;32m     18\u001b[0m                 shots\u001b[38;5;241m=\u001b[39mshots, device\u001b[38;5;241m=\u001b[39mdevice, dataset\u001b[38;5;241m=\u001b[39mPOVM_dataset)\n",
      "\u001b[0;31mNameError\u001b[0m: name 'load_data' is not defined"
     ]
    }
   ],
   "source": [
    "result, circuits = None, None\n",
    "# quantum_exp = QuantumExperiment(backend, n, shots)\n",
    "# result, circuits = quantum_exp.run_experiment()\n",
    "\n",
    "train_loader, test_loader, val_loader, POVM_dataset = load_data(result,\n",
    "                                                                circuits,\n",
    "                                                                first_run,\n",
    "                                                                backend,\n",
    "                                                                n,\n",
    "                                                                shots,\n",
    "                                                                split,\n",
    "                                                                [batch_train, batch_test, batch_val],\n",
    "                                                                shuffle, num_workers)\n",
    "\n",
    "# Instantiate the model for the given parameters\n",
    "model = SQVAE(n=n, batch_size=[batch_train, batch_train, batch_val],\n",
    "              beta=beta, num_steps=num_steps, learning_rate=learning_rate,\n",
    "                shots=shots, device=device, dataset=POVM_dataset)\n",
    "\n",
    "# Run the model and get the fidelity for the current parameter setting\n",
    "fidelity_score = model.run(train=True, test=False, val=True,\n",
    "                           train_loader=train_loader, test_loader=test_loader,\n",
    "                           val_loader=val_loader, num_epochs=num_epochs)\n",
    "\n",
    "\n"
   ]
  },
  {
   "cell_type": "code",
   "execution_count": null,
   "metadata": {
    "id": "215vznl_mCQn"
   },
   "outputs": [],
   "source": []
  }
 ],
 "metadata": {
  "accelerator": "GPU",
  "colab": {
   "gpuType": "T4",
   "provenance": []
  },
  "kaggle": {
   "accelerator": "gpu",
   "dataSources": [],
   "dockerImageVersionId": 30776,
   "isGpuEnabled": true,
   "isInternetEnabled": true,
   "language": "python",
   "sourceType": "notebook"
  },
  "kernelspec": {
   "display_name": "EBRAINS-24.04",
   "language": "python",
   "name": "ebrains-24.04"
  },
  "language_info": {
   "codemirror_mode": {
    "name": "ipython",
    "version": 3
   },
   "file_extension": ".py",
   "mimetype": "text/x-python",
   "name": "python",
   "nbconvert_exporter": "python",
   "pygments_lexer": "ipython3",
   "version": "3.8.11"
  }
 },
 "nbformat": 4,
 "nbformat_minor": 4
}

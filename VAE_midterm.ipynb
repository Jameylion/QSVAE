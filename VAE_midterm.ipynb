{
 "cells": [
  {
   "cell_type": "code",
   "execution_count": 1,
   "metadata": {
    "id": "wHbSMACDa9Gx",
    "tags": []
   },
   "outputs": [],
   "source": [
    "%%capture\n",
    "!pip install snntorch tqdm matplotlib tensorboard qiskit"
   ]
  },
  {
   "cell_type": "code",
   "execution_count": 2,
   "metadata": {
    "id": "wHbSMACDa9Gx",
    "tags": []
   },
   "outputs": [],
   "source": [
    "# !pip3 install torch torchvision torchaudio --index-url https://download.pytorch.org/whl/cpu"
   ]
  },
  {
   "cell_type": "code",
   "execution_count": 3,
   "metadata": {},
   "outputs": [],
   "source": [
    "# from typing import Tuple\n",
    "# import matplotlib.pyplot as plt\n",
    "# import ipywidgets as w\n",
    "# import numpy as np\n",
    "# import torch\n",
    "# from src._static.common.helpers import setup_hardware_client, save_nightly_calibration\n",
    "# from src._static.tutorial.snn_yinyang_helpers import plot_data, plot_input_encoding, plot_training\n",
    "# setup_hardware_client()"
   ]
  },
  {
   "cell_type": "code",
   "execution_count": 4,
   "metadata": {
    "id": "wHbSMACDa9Gx",
    "tags": []
   },
   "outputs": [
    {
     "name": "stdout",
     "output_type": "stream",
     "text": [
      "\u001b[32mINFO \u001b[0m 11:39:37,529  demo_helpers Connection to hxcube7fpga0chip57_1 established\n"
     ]
    },
    {
     "name": "stderr",
     "output_type": "stream",
     "text": [
      "/srv/main-spack-instance-2402/spack/var/spack/environments/experimental/.spack-env/view/lib/python3.8/site-packages/torchvision/io/image.py:13: UserWarning: Failed to load image Python extension: ''If you don't plan on using image functionality from `torchvision.io`, you can ignore this warning. Otherwise, there might be something wrong with your environment. Did you have `libjpeg` or `libpng` installed before building `torchvision` from source?\n",
      "  warn(\n"
     ]
    },
    {
     "name": "stdout",
     "output_type": "stream",
     "text": [
      "cpu\n"
     ]
    }
   ],
   "source": [
    "import torch\n",
    "\n",
    "# from src.Quantum_circuits import *\n",
    "from src.QSVAE_model import *\n",
    "from src.POVM_dataset import *\n",
    "from src.SNN_brainscales import *\n",
    "\n",
    "if torch.cuda.is_available():\n",
    " dev = \"cuda:0\"\n",
    "else:\n",
    " dev = \"cpu\"\n",
    "device = torch.device(dev)\n",
    "print(device)\n",
    "torch.__version__\n",
    "\n",
    "# Define the Pauli matrices\n",
    "I = np.eye(2)\n",
    "sigma_x = np.array([[0, 1], [1, 0]])\n",
    "sigma_y = np.array([[0, -1j], [1j, 0]])\n",
    "sigma_z = np.array([[1, 0], [0, -1]])\n",
    "\n",
    "# Define the s^(alpha) vectors for the single-qubit POVM\n",
    "s_vectors = [\n",
    "    np.array([0, 0, 1]),  # s^(0)\n",
    "    np.array([2 * np.sqrt(2) / 3, 0, -1 / 3]),  # s^(1)\n",
    "    np.array([-np.sqrt(2) / 3, np.sqrt(2) / 3, -1 / 3]),  # s^(2)\n",
    "    np.array([-np.sqrt(2) / 3, -np.sqrt(2) / 3, -1 / 3])  # s^(3)\n",
    "]\n",
    "\n",
    "n = 3 # Amount of qubits\n",
    "shots = 100_000 # amount of shots taken by the quantum simulator\n",
    "first_run = False\n",
    "# Support for \"Starmon-5\" and \"AerSimulator\" \n",
    "backend_type = \"AerSimulator\"\n",
    "# backend = select_backend(backend_type)\n",
    "train = True\n",
    "test = True\n",
    "val = True\n",
    "\n",
    "# Define hyperparameters\n",
    "beta = 0.819\n",
    "num_steps = 200\n",
    "num_epochs = 1\n",
    "learning_rate = 1e-3\n",
    "batch_train, batch_test, batch_val = (1000, 200, 10)\n",
    "num_workers = 0\n",
    "shuffle = False\n",
    "split = [0.6, 0.2, 20000]"
   ]
  },
  {
   "cell_type": "code",
   "execution_count": null,
   "metadata": {
    "id": "hmg6BrDBZZaN",
    "tags": []
   },
   "outputs": [
    {
     "name": "stdout",
     "output_type": "stream",
     "text": [
      "Dataset loaded.\n"
     ]
    },
    {
     "name": "stderr",
     "output_type": "stream",
     "text": [
      "  0%|          | 0/60 [00:00<?, ?it/s]"
     ]
    }
   ],
   "source": [
    "result, circuits, backend = None, None, None\n",
    "# quantum_exp = QuantumExperiment(backend, n, shots)\n",
    "# result, circuits = quantum_exp.run_experiment()\n",
    "\n",
    "train_loader, test_loader, val_loader, POVM_dataset = load_data(result,\n",
    "                                                                circuits,\n",
    "                                                                first_run,\n",
    "                                                                backend,\n",
    "                                                                n,\n",
    "                                                                shots,\n",
    "                                                                split,\n",
    "                                                                [batch_train, batch_test, batch_val],\n",
    "                                                                shuffle, num_workers)\n",
    "\n",
    "# Instantiate the model for the given parameters\n",
    "model = SQVAE(n=n, batch_size=[batch_train, batch_train, batch_val],\n",
    "              beta=beta, num_steps=num_steps, learning_rate=learning_rate,\n",
    "                shots=shots, device=device, dataset=POVM_dataset, s_vectors = s_vectors)\n",
    "\n",
    "# Run the model and get the fidelity for the current parameter setting\n",
    "fidelity_score = model.run(train=train, test=test, val=val,\n",
    "                           train_loader=train_loader, test_loader=test_loader,\n",
    "                           val_loader=val_loader, num_epochs=num_epochs)\n"
   ]
  },
  {
   "cell_type": "code",
   "execution_count": null,
   "metadata": {
    "id": "215vznl_mCQn"
   },
   "outputs": [],
   "source": []
  },
  {
   "cell_type": "code",
   "execution_count": null,
   "metadata": {},
   "outputs": [],
   "source": []
  }
 ],
 "metadata": {
  "accelerator": "GPU",
  "colab": {
   "gpuType": "T4",
   "provenance": []
  },
  "kaggle": {
   "accelerator": "gpu",
   "dataSources": [],
   "dockerImageVersionId": 30776,
   "isGpuEnabled": true,
   "isInternetEnabled": true,
   "language": "python",
   "sourceType": "notebook"
  },
  "kernelspec": {
   "display_name": "EBRAINS-experimental",
   "language": "python",
   "name": "ebrains-experimental"
  },
  "language_info": {
   "codemirror_mode": {
    "name": "ipython",
    "version": 3
   },
   "file_extension": ".py",
   "mimetype": "text/x-python",
   "name": "python",
   "nbconvert_exporter": "python",
   "pygments_lexer": "ipython3",
   "version": "3.8.11"
  }
 },
 "nbformat": 4,
 "nbformat_minor": 4
}

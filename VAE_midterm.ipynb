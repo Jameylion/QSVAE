{
 "cells": [
  {
   "cell_type": "code",
   "execution_count": 8,
   "metadata": {
    "id": "wHbSMACDa9Gx",
    "tags": []
   },
   "outputs": [
    {
     "name": "stdout",
     "output_type": "stream",
     "text": [
      "Defaulting to user installation because normal site-packages is not writeable\n",
      "Requirement already satisfied: snntorch in /opt/app-root/src/.local/lib/python3.8/site-packages (0.9.1)\n",
      "Requirement already satisfied: tqdm in /srv/main-spack-instance-2402/spack/var/spack/environments/ebrains-24-04/.spack-env/._view/dilrqgvcful4yhyqdzwr424x6zawgsds/lib/python3.8/site-packages (4.66.1)\n",
      "Requirement already satisfied: matplotlib in /srv/main-spack-instance-2402/spack/var/spack/environments/ebrains-24-04/.spack-env/._view/dilrqgvcful4yhyqdzwr424x6zawgsds/lib/python3.8/site-packages (3.7.3)\n",
      "Collecting tensorboard\n",
      "  Downloading tensorboard-2.14.0-py3-none-any.whl (5.5 MB)\n",
      "\u001b[2K     \u001b[90m━━━━━━━━━━━━━━━━━━━━━━━━━━━━━━━━━━━━━━━━\u001b[0m \u001b[32m5.5/5.5 MB\u001b[0m \u001b[31m31.7 MB/s\u001b[0m eta \u001b[36m0:00:00\u001b[0m00:01\u001b[0m00:01\u001b[0m\n",
      "\u001b[?25hRequirement already satisfied: torch>=1.1.0 in /srv/main-spack-instance-2402/spack/var/spack/environments/ebrains-24-04/.spack-env/._view/dilrqgvcful4yhyqdzwr424x6zawgsds/lib/python3.8/site-packages (from snntorch) (2.0.1)\n",
      "Requirement already satisfied: pandas in /srv/main-spack-instance-2402/spack/var/spack/environments/ebrains-24-04/.spack-env/._view/dilrqgvcful4yhyqdzwr424x6zawgsds/lib/python3.8/site-packages (from snntorch) (2.0.3)\n",
      "Requirement already satisfied: numpy>=1.17 in /srv/main-spack-instance-2402/spack/var/spack/environments/ebrains-24-04/.spack-env/._view/dilrqgvcful4yhyqdzwr424x6zawgsds/lib/python3.8/site-packages (from snntorch) (1.23.5)\n",
      "Requirement already satisfied: nir in /opt/app-root/src/.local/lib/python3.8/site-packages (from snntorch) (1.0.1)\n",
      "Requirement already satisfied: nirtorch in /opt/app-root/src/.local/lib/python3.8/site-packages (from snntorch) (1.0)\n",
      "Requirement already satisfied: contourpy>=1.0.1 in /srv/main-spack-instance-2402/spack/var/spack/environments/ebrains-24-04/.spack-env/._view/dilrqgvcful4yhyqdzwr424x6zawgsds/lib/python3.8/site-packages (from matplotlib) (1.0.7)\n",
      "Requirement already satisfied: cycler>=0.10 in /srv/main-spack-instance-2402/spack/var/spack/environments/ebrains-24-04/.spack-env/._view/dilrqgvcful4yhyqdzwr424x6zawgsds/lib/python3.8/site-packages (from matplotlib) (0.11.0)\n",
      "Requirement already satisfied: fonttools>=4.22.0 in /srv/main-spack-instance-2402/spack/var/spack/environments/ebrains-24-04/.spack-env/._view/dilrqgvcful4yhyqdzwr424x6zawgsds/lib/python3.8/site-packages (from matplotlib) (4.39.4)\n",
      "Requirement already satisfied: kiwisolver>=1.0.1 in /srv/main-spack-instance-2402/spack/var/spack/environments/ebrains-24-04/.spack-env/._view/dilrqgvcful4yhyqdzwr424x6zawgsds/lib/python3.8/site-packages (from matplotlib) (1.4.5)\n",
      "Requirement already satisfied: packaging>=20.0 in /srv/main-spack-instance-2402/spack/var/spack/environments/ebrains-24-04/.spack-env/._view/dilrqgvcful4yhyqdzwr424x6zawgsds/lib/python3.8/site-packages (from matplotlib) (23.1)\n",
      "Requirement already satisfied: pillow>=6.2.0 in /srv/main-spack-instance-2402/spack/var/spack/environments/ebrains-24-04/.spack-env/._view/dilrqgvcful4yhyqdzwr424x6zawgsds/lib/python3.8/site-packages (from matplotlib) (10.0.0)\n",
      "Requirement already satisfied: pyparsing>=2.3.1 in /srv/main-spack-instance-2402/spack/var/spack/environments/ebrains-24-04/.spack-env/._view/dilrqgvcful4yhyqdzwr424x6zawgsds/lib/python3.8/site-packages (from matplotlib) (3.0.9)\n",
      "Requirement already satisfied: python-dateutil>=2.7 in /srv/main-spack-instance-2402/spack/var/spack/environments/ebrains-24-04/.spack-env/._view/dilrqgvcful4yhyqdzwr424x6zawgsds/lib/python3.8/site-packages (from matplotlib) (2.8.2)\n",
      "Requirement already satisfied: importlib-resources>=3.2.0 in /srv/main-spack-instance-2402/spack/var/spack/environments/ebrains-24-04/.spack-env/._view/dilrqgvcful4yhyqdzwr424x6zawgsds/lib/python3.8/site-packages (from matplotlib) (5.12.0)\n",
      "Requirement already satisfied: absl-py>=0.4 in /srv/main-spack-instance-2402/spack/var/spack/environments/ebrains-24-04/.spack-env/._view/dilrqgvcful4yhyqdzwr424x6zawgsds/lib/python3.8/site-packages (from tensorboard) (1.4.0)\n",
      "Collecting grpcio>=1.48.2 (from tensorboard)\n",
      "  Downloading grpcio-1.66.2-cp38-cp38-manylinux_2_17_x86_64.manylinux2014_x86_64.whl (5.8 MB)\n",
      "\u001b[2K     \u001b[90m━━━━━━━━━━━━━━━━━━━━━━━━━━━━━━━━━━━━━━━━\u001b[0m \u001b[32m5.8/5.8 MB\u001b[0m \u001b[31m34.6 MB/s\u001b[0m eta \u001b[36m0:00:00\u001b[0m:00:01\u001b[0m00:01\u001b[0m\n",
      "\u001b[?25hRequirement already satisfied: google-auth<3,>=1.6.3 in /srv/main-spack-instance-2402/spack/var/spack/environments/ebrains-24-04/.spack-env/._view/dilrqgvcful4yhyqdzwr424x6zawgsds/lib/python3.8/site-packages (from tensorboard) (2.16.2)\n",
      "Collecting google-auth-oauthlib<1.1,>=0.5 (from tensorboard)\n",
      "  Downloading google_auth_oauthlib-1.0.0-py2.py3-none-any.whl (18 kB)\n",
      "Requirement already satisfied: markdown>=2.6.8 in /srv/main-spack-instance-2402/spack/var/spack/environments/ebrains-24-04/.spack-env/._view/dilrqgvcful4yhyqdzwr424x6zawgsds/lib/python3.8/site-packages (from tensorboard) (3.4.1)\n",
      "Requirement already satisfied: protobuf>=3.19.6 in /srv/main-spack-instance-2402/spack/var/spack/environments/ebrains-24-04/.spack-env/._view/dilrqgvcful4yhyqdzwr424x6zawgsds/lib/python3.8/site-packages (from tensorboard) (3.20.3)\n",
      "Requirement already satisfied: requests<3,>=2.21.0 in /srv/main-spack-instance-2402/spack/var/spack/environments/ebrains-24-04/.spack-env/._view/dilrqgvcful4yhyqdzwr424x6zawgsds/lib/python3.8/site-packages (from tensorboard) (2.31.0)\n",
      "Requirement already satisfied: setuptools>=41.0.0 in /srv/main-spack-instance-2402/spack/var/spack/environments/ebrains-24-04/.spack-env/._view/dilrqgvcful4yhyqdzwr424x6zawgsds/lib/python3.8/site-packages (from tensorboard) (62.6.0)\n",
      "Collecting tensorboard-data-server<0.8.0,>=0.7.0 (from tensorboard)\n",
      "  Downloading tensorboard_data_server-0.7.2-py3-none-manylinux_2_31_x86_64.whl (6.6 MB)\n",
      "\u001b[2K     \u001b[90m━━━━━━━━━━━━━━━━━━━━━━━━━━━━━━━━━━━━━━━━\u001b[0m \u001b[32m6.6/6.6 MB\u001b[0m \u001b[31m39.5 MB/s\u001b[0m eta \u001b[36m0:00:00\u001b[0m:00:01\u001b[0m00:01\u001b[0m\n",
      "\u001b[?25hRequirement already satisfied: werkzeug>=1.0.1 in /srv/main-spack-instance-2402/spack/var/spack/environments/ebrains-24-04/.spack-env/._view/dilrqgvcful4yhyqdzwr424x6zawgsds/lib/python3.8/site-packages (from tensorboard) (3.0.0)\n",
      "Requirement already satisfied: wheel>=0.26 in /srv/main-spack-instance-2402/spack/var/spack/environments/ebrains-24-04/.spack-env/._view/dilrqgvcful4yhyqdzwr424x6zawgsds/lib/python3.8/site-packages (from tensorboard) (0.37.1)\n",
      "Requirement already satisfied: cachetools<6.0,>=2.0.0 in /srv/main-spack-instance-2402/spack/var/spack/environments/ebrains-24-04/.spack-env/._view/dilrqgvcful4yhyqdzwr424x6zawgsds/lib/python3.8/site-packages (from google-auth<3,>=1.6.3->tensorboard) (5.2.0)\n",
      "Requirement already satisfied: pyasn1-modules>=0.2.1 in /srv/main-spack-instance-2402/spack/var/spack/environments/ebrains-24-04/.spack-env/._view/dilrqgvcful4yhyqdzwr424x6zawgsds/lib/python3.8/site-packages (from google-auth<3,>=1.6.3->tensorboard) (0.2.8)\n",
      "Requirement already satisfied: six>=1.9.0 in /srv/main-spack-instance-2402/spack/var/spack/environments/ebrains-24-04/.spack-env/._view/dilrqgvcful4yhyqdzwr424x6zawgsds/lib/python3.8/site-packages (from google-auth<3,>=1.6.3->tensorboard) (1.16.0)\n",
      "Requirement already satisfied: rsa<5,>=3.1.4 in /srv/main-spack-instance-2402/spack/var/spack/environments/ebrains-24-04/.spack-env/._view/dilrqgvcful4yhyqdzwr424x6zawgsds/lib/python3.8/site-packages (from google-auth<3,>=1.6.3->tensorboard) (4.9)\n",
      "Requirement already satisfied: requests-oauthlib>=0.7.0 in /srv/main-spack-instance-2402/spack/var/spack/environments/ebrains-24-04/.spack-env/._view/dilrqgvcful4yhyqdzwr424x6zawgsds/lib/python3.8/site-packages (from google-auth-oauthlib<1.1,>=0.5->tensorboard) (1.3.1)\n",
      "Requirement already satisfied: zipp>=3.1.0 in /srv/main-spack-instance-2402/spack/var/spack/environments/ebrains-24-04/.spack-env/._view/dilrqgvcful4yhyqdzwr424x6zawgsds/lib/python3.8/site-packages (from importlib-resources>=3.2.0->matplotlib) (3.17.0)\n",
      "Requirement already satisfied: importlib-metadata>=4.4 in /srv/main-spack-instance-2402/spack/var/spack/environments/ebrains-24-04/.spack-env/._view/dilrqgvcful4yhyqdzwr424x6zawgsds/lib/python3.8/site-packages (from markdown>=2.6.8->tensorboard) (6.6.0)\n",
      "Requirement already satisfied: charset-normalizer<4,>=2 in /srv/main-spack-instance-2402/spack/var/spack/environments/ebrains-24-04/.spack-env/._view/dilrqgvcful4yhyqdzwr424x6zawgsds/lib/python3.8/site-packages (from requests<3,>=2.21.0->tensorboard) (3.3.0)\n",
      "Requirement already satisfied: idna<4,>=2.5 in /srv/main-spack-instance-2402/spack/var/spack/environments/ebrains-24-04/.spack-env/._view/dilrqgvcful4yhyqdzwr424x6zawgsds/lib/python3.8/site-packages (from requests<3,>=2.21.0->tensorboard) (3.4)\n",
      "Requirement already satisfied: urllib3<3,>=1.21.1 in /srv/main-spack-instance-2402/spack/var/spack/environments/ebrains-24-04/.spack-env/._view/dilrqgvcful4yhyqdzwr424x6zawgsds/lib/python3.8/site-packages (from requests<3,>=2.21.0->tensorboard) (2.0.6)\n",
      "Requirement already satisfied: certifi>=2017.4.17 in /srv/main-spack-instance-2402/spack/var/spack/environments/ebrains-24-04/.spack-env/._view/dilrqgvcful4yhyqdzwr424x6zawgsds/lib/python3.8/site-packages (from requests<3,>=2.21.0->tensorboard) (2023.7.22)\n",
      "Requirement already satisfied: filelock in /srv/main-spack-instance-2402/spack/var/spack/environments/ebrains-24-04/.spack-env/._view/dilrqgvcful4yhyqdzwr424x6zawgsds/lib/python3.8/site-packages (from torch>=1.1.0->snntorch) (3.12.4)\n",
      "Requirement already satisfied: typing-extensions in /srv/main-spack-instance-2402/spack/var/spack/environments/ebrains-24-04/.spack-env/._view/dilrqgvcful4yhyqdzwr424x6zawgsds/lib/python3.8/site-packages (from torch>=1.1.0->snntorch) (4.8.0)\n",
      "Requirement already satisfied: sympy in /srv/main-spack-instance-2402/spack/var/spack/environments/ebrains-24-04/.spack-env/._view/dilrqgvcful4yhyqdzwr424x6zawgsds/lib/python3.8/site-packages (from torch>=1.1.0->snntorch) (1.10.1)\n",
      "Requirement already satisfied: networkx in /srv/main-spack-instance-2402/spack/var/spack/environments/ebrains-24-04/.spack-env/._view/dilrqgvcful4yhyqdzwr424x6zawgsds/lib/python3.8/site-packages (from torch>=1.1.0->snntorch) (3.1)\n",
      "Requirement already satisfied: jinja2 in /srv/main-spack-instance-2402/spack/var/spack/environments/ebrains-24-04/.spack-env/._view/dilrqgvcful4yhyqdzwr424x6zawgsds/lib/python3.8/site-packages (from torch>=1.1.0->snntorch) (3.1.2)\n",
      "Requirement already satisfied: MarkupSafe>=2.1.1 in /srv/main-spack-instance-2402/spack/var/spack/environments/ebrains-24-04/.spack-env/._view/dilrqgvcful4yhyqdzwr424x6zawgsds/lib/python3.8/site-packages (from werkzeug>=1.0.1->tensorboard) (2.1.3)\n",
      "Requirement already satisfied: h5py in /srv/main-spack-instance-2402/spack/var/spack/environments/ebrains-24-04/.spack-env/._view/dilrqgvcful4yhyqdzwr424x6zawgsds/lib/python3.8/site-packages (from nir->snntorch) (3.8.0)\n",
      "Requirement already satisfied: pytz>=2020.1 in /srv/main-spack-instance-2402/spack/var/spack/environments/ebrains-24-04/.spack-env/._view/dilrqgvcful4yhyqdzwr424x6zawgsds/lib/python3.8/site-packages (from pandas->snntorch) (2023.3)\n",
      "Requirement already satisfied: tzdata>=2022.1 in /srv/main-spack-instance-2402/spack/var/spack/environments/ebrains-24-04/.spack-env/._view/dilrqgvcful4yhyqdzwr424x6zawgsds/lib/python3.8/site-packages (from pandas->snntorch) (2023.3)\n",
      "Requirement already satisfied: pyasn1<0.5.0,>=0.4.6 in /srv/main-spack-instance-2402/spack/var/spack/environments/ebrains-24-04/.spack-env/._view/dilrqgvcful4yhyqdzwr424x6zawgsds/lib/python3.8/site-packages (from pyasn1-modules>=0.2.1->google-auth<3,>=1.6.3->tensorboard) (0.4.8)\n",
      "Requirement already satisfied: oauthlib>=3.0.0 in /srv/main-spack-instance-2402/spack/var/spack/environments/ebrains-24-04/.spack-env/._view/dilrqgvcful4yhyqdzwr424x6zawgsds/lib/python3.8/site-packages (from requests-oauthlib>=0.7.0->google-auth-oauthlib<1.1,>=0.5->tensorboard) (3.2.1)\n",
      "Requirement already satisfied: mpi4py>=3.0.2 in /srv/main-spack-instance-2402/spack/var/spack/environments/ebrains-24-04/.spack-env/._view/dilrqgvcful4yhyqdzwr424x6zawgsds/lib/python3.8/site-packages (from h5py->nir->snntorch) (3.1.4)\n",
      "Requirement already satisfied: mpmath>=0.19 in /srv/main-spack-instance-2402/spack/var/spack/environments/ebrains-24-04/.spack-env/._view/dilrqgvcful4yhyqdzwr424x6zawgsds/lib/python3.8/site-packages (from sympy->torch>=1.1.0->snntorch) (1.2.1)\n",
      "Installing collected packages: tensorboard-data-server, grpcio, google-auth-oauthlib, tensorboard\n",
      "\u001b[31mERROR: pip's dependency resolver does not currently take into account all the packages that are installed. This behaviour is the source of the following dependency conflicts.\n",
      "ray 2.4.0 requires aiosignal, which is not installed.\n",
      "ray 2.4.0 requires grpcio<=1.51.3,>=1.32.0; python_version < \"3.10\" and sys_platform != \"darwin\", but you have grpcio 1.66.2 which is incompatible.\n",
      "ray 2.4.0 requires virtualenv<20.21.1,>=20.0.24, but you have virtualenv 20.24.5 which is incompatible.\u001b[0m\u001b[31m\n",
      "\u001b[0mSuccessfully installed google-auth-oauthlib-1.0.0 grpcio-1.66.2 tensorboard-2.14.0 tensorboard-data-server-0.7.2\n",
      "\n",
      "\u001b[1m[\u001b[0m\u001b[34;49mnotice\u001b[0m\u001b[1;39;49m]\u001b[0m\u001b[39;49m A new release of pip is available: \u001b[0m\u001b[31;49m23.1.2\u001b[0m\u001b[39;49m -> \u001b[0m\u001b[32;49m24.2\u001b[0m\n",
      "\u001b[1m[\u001b[0m\u001b[34;49mnotice\u001b[0m\u001b[1;39;49m]\u001b[0m\u001b[39;49m To update, run: \u001b[0m\u001b[32;49mpython3.8 -m pip install --upgrade pip\u001b[0m\n"
     ]
    }
   ],
   "source": [
    "# %%capture\n",
    "!pip install snntorch tqdm matplotlib tensorboard"
   ]
  },
  {
   "cell_type": "code",
   "execution_count": 3,
   "metadata": {
    "id": "wHbSMACDa9Gx",
    "tags": []
   },
   "outputs": [],
   "source": [
    "# !pip3 install torch torchvision torchaudio --index-url https://download.pytorch.org/whl/cpu"
   ]
  },
  {
   "cell_type": "code",
   "execution_count": 1,
   "metadata": {
    "id": "wHbSMACDa9Gx",
    "tags": []
   },
   "outputs": [
    {
     "name": "stderr",
     "output_type": "stream",
     "text": [
      "/srv/main-spack-instance-2402/spack/var/spack/environments/ebrains-24-04/.spack-env/view/lib/python3.8/site-packages/torchvision/io/image.py:13: UserWarning: Failed to load image Python extension: ''If you don't plan on using image functionality from `torchvision.io`, you can ignore this warning. Otherwise, there might be something wrong with your environment. Did you have `libjpeg` or `libpng` installed before building `torchvision` from source?\n",
      "  warn(\n"
     ]
    },
    {
     "name": "stdout",
     "output_type": "stream",
     "text": [
      "cpu\n"
     ]
    }
   ],
   "source": [
    "import torch\n",
    "\n",
    "# from src.Quantum_circuits import *\n",
    "from src.QSVAE_model import *\n",
    "from src.POVM_dataset import *\n",
    "\n",
    "if torch.cuda.is_available():\n",
    " dev = \"cuda:0\"\n",
    "#  dev = \"cpu\"\n",
    "else:\n",
    " dev = \"cpu\"\n",
    "device = torch.device(dev)\n",
    "print(device)\n",
    "torch.__version__\n",
    "\n",
    "n = 3 # Amount of qubits\n",
    "shots = 100_000 # amount of shots taken by the quantum simulator\n",
    "first_run = False\n",
    "# Support for \"Starmon-5\" and \"AerSimulator\" \n",
    "# backend_type = \"AerSimulator\"\n",
    "# backend = select_backend(backend_type)\n",
    "train = True\n",
    "test = True\n",
    "val = True\n",
    "\n",
    "# Define hyperparameters\n",
    "beta = 0.819\n",
    "num_steps = 200\n",
    "num_epochs = 1\n",
    "learning_rate = 1e-3\n",
    "batch_train, batch_test, batch_val = (10000, 200, 1000)\n",
    "num_workers = 0\n",
    "shuffle = False\n",
    "split = [0.6, 0.2]\n",
    "\n"
   ]
  },
  {
   "cell_type": "code",
   "execution_count": 2,
   "metadata": {
    "id": "hmg6BrDBZZaN",
    "tags": []
   },
   "outputs": [
    {
     "ename": "EOFError",
     "evalue": "Ran out of input",
     "output_type": "error",
     "traceback": [
      "\u001b[0;31m---------------------------------------------------------------------------\u001b[0m",
      "\u001b[0;31mEOFError\u001b[0m                                  Traceback (most recent call last)",
      "Cell \u001b[0;32mIn[2], line 5\u001b[0m\n\u001b[1;32m      1\u001b[0m result, circuits, backend \u001b[38;5;241m=\u001b[39m \u001b[38;5;28;01mNone\u001b[39;00m, \u001b[38;5;28;01mNone\u001b[39;00m, \u001b[38;5;28;01mNone\u001b[39;00m\n\u001b[1;32m      2\u001b[0m \u001b[38;5;66;03m# quantum_exp = QuantumExperiment(backend, n, shots)\u001b[39;00m\n\u001b[1;32m      3\u001b[0m \u001b[38;5;66;03m# result, circuits = quantum_exp.run_experiment()\u001b[39;00m\n\u001b[0;32m----> 5\u001b[0m train_loader, test_loader, val_loader, POVM_dataset \u001b[38;5;241m=\u001b[39m \u001b[43mload_data\u001b[49m\u001b[43m(\u001b[49m\u001b[43mresult\u001b[49m\u001b[43m,\u001b[49m\n\u001b[1;32m      6\u001b[0m \u001b[43m                                                                \u001b[49m\u001b[43mcircuits\u001b[49m\u001b[43m,\u001b[49m\n\u001b[1;32m      7\u001b[0m \u001b[43m                                                                \u001b[49m\u001b[43mfirst_run\u001b[49m\u001b[43m,\u001b[49m\n\u001b[1;32m      8\u001b[0m \u001b[43m                                                                \u001b[49m\u001b[43mbackend\u001b[49m\u001b[43m,\u001b[49m\n\u001b[1;32m      9\u001b[0m \u001b[43m                                                                \u001b[49m\u001b[43mn\u001b[49m\u001b[43m,\u001b[49m\n\u001b[1;32m     10\u001b[0m \u001b[43m                                                                \u001b[49m\u001b[43mshots\u001b[49m\u001b[43m,\u001b[49m\n\u001b[1;32m     11\u001b[0m \u001b[43m                                                                \u001b[49m\u001b[43msplit\u001b[49m\u001b[43m,\u001b[49m\n\u001b[1;32m     12\u001b[0m \u001b[43m                                                                \u001b[49m\u001b[43m[\u001b[49m\u001b[43mbatch_train\u001b[49m\u001b[43m,\u001b[49m\u001b[43m \u001b[49m\u001b[43mbatch_test\u001b[49m\u001b[43m,\u001b[49m\u001b[43m \u001b[49m\u001b[43mbatch_val\u001b[49m\u001b[43m]\u001b[49m\u001b[43m,\u001b[49m\n\u001b[1;32m     13\u001b[0m \u001b[43m                                                                \u001b[49m\u001b[43mshuffle\u001b[49m\u001b[43m,\u001b[49m\u001b[43m \u001b[49m\u001b[43mnum_workers\u001b[49m\u001b[43m)\u001b[49m\n\u001b[1;32m     15\u001b[0m \u001b[38;5;66;03m# Instantiate the model for the given parameters\u001b[39;00m\n\u001b[1;32m     16\u001b[0m model \u001b[38;5;241m=\u001b[39m SQVAE(n\u001b[38;5;241m=\u001b[39mn, batch_size\u001b[38;5;241m=\u001b[39m[batch_train, batch_train, batch_val],\n\u001b[1;32m     17\u001b[0m               beta\u001b[38;5;241m=\u001b[39mbeta, num_steps\u001b[38;5;241m=\u001b[39mnum_steps, learning_rate\u001b[38;5;241m=\u001b[39mlearning_rate,\n\u001b[1;32m     18\u001b[0m                 shots\u001b[38;5;241m=\u001b[39mshots, device\u001b[38;5;241m=\u001b[39mdevice, dataset\u001b[38;5;241m=\u001b[39mPOVM_dataset)\n",
      "File \u001b[0;32m/mnt/user/shared/NMC test collab for user jsvanleeuwen/BrainScaleS/QSVAE/src/POVM_dataset.py:102\u001b[0m, in \u001b[0;36mload_data\u001b[0;34m(result, circuits, first_run, backend, n, shots, split, batch_size, shuffle, num_workers)\u001b[0m\n\u001b[1;32m    100\u001b[0m \u001b[38;5;28;01melse\u001b[39;00m:\n\u001b[1;32m    101\u001b[0m     \u001b[38;5;28;01mwith\u001b[39;00m \u001b[38;5;28mopen\u001b[39m(filename, \u001b[38;5;124m'\u001b[39m\u001b[38;5;124mrb\u001b[39m\u001b[38;5;124m'\u001b[39m) \u001b[38;5;28;01mas\u001b[39;00m f:\n\u001b[0;32m--> 102\u001b[0m         data \u001b[38;5;241m=\u001b[39m \u001b[43mpickle\u001b[49m\u001b[38;5;241;43m.\u001b[39;49m\u001b[43mload\u001b[49m\u001b[43m(\u001b[49m\u001b[43mf\u001b[49m\u001b[43m)\u001b[49m\n\u001b[1;32m    103\u001b[0m         POVM_dataset \u001b[38;5;241m=\u001b[39m data[\u001b[38;5;124m'\u001b[39m\u001b[38;5;124mdataset\u001b[39m\u001b[38;5;124m'\u001b[39m]\n\u001b[1;32m    104\u001b[0m         \u001b[38;5;28mprint\u001b[39m(\u001b[38;5;124m\"\u001b[39m\u001b[38;5;124mDataset loaded.\u001b[39m\u001b[38;5;124m\"\u001b[39m)\n",
      "\u001b[0;31mEOFError\u001b[0m: Ran out of input"
     ]
    }
   ],
   "source": [
    "result, circuits, backend = None, None, None\n",
    "# quantum_exp = QuantumExperiment(backend, n, shots)\n",
    "# result, circuits = quantum_exp.run_experiment()\n",
    "\n",
    "train_loader, test_loader, val_loader, POVM_dataset = load_data(result,\n",
    "                                                                circuits,\n",
    "                                                                first_run,\n",
    "                                                                backend,\n",
    "                                                                n,\n",
    "                                                                shots,\n",
    "                                                                split,\n",
    "                                                                [batch_train, batch_test, batch_val],\n",
    "                                                                shuffle, num_workers)\n",
    "\n",
    "# Instantiate the model for the given parameters\n",
    "model = SQVAE(n=n, batch_size=[batch_train, batch_train, batch_val],\n",
    "              beta=beta, num_steps=num_steps, learning_rate=learning_rate,\n",
    "                shots=shots, device=device, dataset=POVM_dataset)\n",
    "\n",
    "# Run the model and get the fidelity for the current parameter setting\n",
    "fidelity_score = model.run(train=True, test=False, val=True,\n",
    "                           train_loader=train_loader, test_loader=test_loader,\n",
    "                           val_loader=val_loader, num_epochs=num_epochs)\n",
    "\n",
    "\n"
   ]
  },
  {
   "cell_type": "code",
   "execution_count": null,
   "metadata": {
    "id": "215vznl_mCQn"
   },
   "outputs": [],
   "source": []
  }
 ],
 "metadata": {
  "accelerator": "GPU",
  "colab": {
   "gpuType": "T4",
   "provenance": []
  },
  "kaggle": {
   "accelerator": "gpu",
   "dataSources": [],
   "dockerImageVersionId": 30776,
   "isGpuEnabled": true,
   "isInternetEnabled": true,
   "language": "python",
   "sourceType": "notebook"
  },
  "kernelspec": {
   "display_name": "EBRAINS-24.04",
   "language": "python",
   "name": "ebrains-24.04"
  },
  "language_info": {
   "codemirror_mode": {
    "name": "ipython",
    "version": 3
   },
   "file_extension": ".py",
   "mimetype": "text/x-python",
   "name": "python",
   "nbconvert_exporter": "python",
   "pygments_lexer": "ipython3",
   "version": "3.8.11"
  }
 },
 "nbformat": 4,
 "nbformat_minor": 4
}
